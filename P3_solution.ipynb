{
 "cells": [
  {
   "cell_type": "markdown",
   "metadata": {},
   "source": [
    "# P3 Continuous Control Solution"
   ]
  },
  {
   "cell_type": "code",
   "execution_count": 1,
   "metadata": {},
   "outputs": [],
   "source": [
    "from collections import deque\n",
    "from unityagents import UnityEnvironment"
   ]
  },
  {
   "cell_type": "markdown",
   "metadata": {},
   "source": [
    "## Open environment and view the space"
   ]
  },
  {
   "cell_type": "code",
   "execution_count": 2,
   "metadata": {},
   "outputs": [
    {
     "name": "stderr",
     "output_type": "stream",
     "text": [
      "INFO:unityagents:\n",
      "'Academy' started successfully!\n",
      "Unity Academy name: Academy\n",
      "        Number of Brains: 1\n",
      "        Number of External Brains : 1\n",
      "        Lesson number : 0\n",
      "        Reset Parameters :\n",
      "\t\t\n",
      "Unity brain name: TennisBrain\n",
      "        Number of Visual Observations (per agent): 0\n",
      "        Vector Observation space type: continuous\n",
      "        Vector Observation space size (per agent): 8\n",
      "        Number of stacked Vector Observation: 3\n",
      "        Vector Action space type: continuous\n",
      "        Vector Action space size (per agent): 2\n",
      "        Vector Action descriptions: , \n"
     ]
    },
    {
     "name": "stdout",
     "output_type": "stream",
     "text": [
      "Number of agents: 2\n",
      "Size of each action: 2\n",
      "There are 2 agents. Each observes a state with length: 24\n",
      "The state for the first agent looks like: [ 0.          0.          0.          0.          0.          0.\n",
      "  0.          0.          0.          0.          0.          0.\n",
      "  0.          0.          0.          0.         -6.65278625 -1.5\n",
      " -0.          0.          6.83172083  6.         -0.          0.        ]\n"
     ]
    }
   ],
   "source": [
    "\n",
    "env = UnityEnvironment(file_name=\"./Tennis_Linux/Tennis.x86_64\")\n",
    "brain_name = env.brain_names[0]\n",
    "brain = env.brains[brain_name]\n",
    "# reset the environment\n",
    "env_info = env.reset(train_mode=True)[brain_name]\n",
    "\n",
    "# number of agents \n",
    "num_agents = len(env_info.agents)\n",
    "print('Number of agents:', num_agents)\n",
    "\n",
    "# size of each action\n",
    "action_size = brain.vector_action_space_size\n",
    "print('Size of each action:', action_size)\n",
    "\n",
    "# examine the state space \n",
    "states = env_info.vector_observations\n",
    "state_size = states.shape[1]\n",
    "print('There are {} agents. Each observes a state with length: {}'.format(states.shape[0], state_size))\n",
    "print('The state for the first agent looks like:', states[0])"
   ]
  },
  {
   "cell_type": "markdown",
   "metadata": {},
   "source": [
    "## Run while training agent"
   ]
  },
  {
   "cell_type": "code",
   "execution_count": 3,
   "metadata": {
    "scrolled": false
   },
   "outputs": [],
   "source": [
    "import torch\n",
    "import numpy as np\n",
    "from time import time\n",
    "def run(n_episodes=3000, save_every=100, print_every = 10, steps_to_learn=15, update_learn=20):\n",
    "    scores_moving_win = deque(maxlen=100)\n",
    "    total_scores = []\n",
    "    for i_episode in range(1, n_episodes+1):\n",
    "        t0 = time()\n",
    "        scores = np.zeros(num_agents)                         # One score per agent\n",
    "        env_info = env.reset(train_mode=True)[brain_name] \n",
    "        states = env_info.vector_observations\n",
    "        agent.reset()\n",
    "        t = 0\n",
    "        while True:\n",
    "            actions = agent.act(states)\n",
    "            env_info = env.step(actions)[brain_name]      \n",
    "            next_states = env_info.vector_observations            \n",
    "            rewards = env_info.rewards\n",
    "            scores += rewards\n",
    "            dones = env_info.local_done \n",
    "            for i in range(len(states)):\n",
    "                agent.step(states[i], actions[i], rewards[i], next_states[i], dones[i])\n",
    "            states = next_states\n",
    "            if t%steps_to_learn == 0:\n",
    "                for _ in range(update_learn):\n",
    "                    agent.learn()\n",
    "            if np.all(dones):                                  # exit loop if all episodes finished\n",
    "                break\n",
    "            t += 1\n",
    "\n",
    "        max_score = np.max(scores)                             # keep the larger of the two scores\n",
    "        scores_moving_win.append(max_score)\n",
    "        total_scores.append(max_score)\n",
    "        average_score_moving_win = np.mean(scores_moving_win)\n",
    "        t1 = time()\n",
    "        print('\\rEpisode {}\\tAverage Score Moving Win: {:.2f} \\t Score this episode: {:.2f} \\t episode-time {:.3f} sec'.format(\n",
    "            i_episode, average_score_moving_win, max_score, t1-t0), end=\"\")\n",
    "\n",
    "        if i_episode % print_every == 0:\n",
    "            print()\n",
    "\n",
    "        if i_episode % save_every == 0:\n",
    "            torch.save(agent.actor_local.state_dict(), 'checkpoint_{}_actor.pth'.format(i_episode))\n",
    "            torch.save(agent.critic_local.state_dict(), 'checkpoint_{}_critic.pth'.format(i_episode) )\n",
    "        \n",
    "        if (average_score_moving_win >= 0.5) and (len(scores_moving_win) == 100):\n",
    "            print(\"\\nReached train condition by episode {}!\".format(i_episode))\n",
    "            torch.save(agent.actor_local.state_dict(), 'final_actor.pth')\n",
    "            torch.save(agent.critic_local.state_dict(), 'final_critic.pth')\n",
    "            break\n",
    "    return total_scores"
   ]
  },
  {
   "cell_type": "code",
   "execution_count": 4,
   "metadata": {
    "scrolled": false
   },
   "outputs": [
    {
     "name": "stdout",
     "output_type": "stream",
     "text": [
      "cuda:0\n",
      "Episode 10\tAverage Score Moving Win: 0.01 \t Score this episode: 0.09 \t episode-time 0.045 sec\n",
      "Episode 20\tAverage Score Moving Win: 0.00 \t Score this episode: 0.00 \t episode-time 0.023 sec\n",
      "Episode 30\tAverage Score Moving Win: 0.00 \t Score this episode: 0.00 \t episode-time 0.020 sec\n",
      "Episode 40\tAverage Score Moving Win: 0.01 \t Score this episode: 0.00 \t episode-time 0.175 sec\n",
      "Episode 50\tAverage Score Moving Win: 0.01 \t Score this episode: 0.00 \t episode-time 0.180 sec\n",
      "Episode 60\tAverage Score Moving Win: 0.00 \t Score this episode: 0.00 \t episode-time 0.174 sec\n",
      "Episode 70\tAverage Score Moving Win: 0.00 \t Score this episode: 0.00 \t episode-time 0.177 sec\n",
      "Episode 80\tAverage Score Moving Win: 0.00 \t Score this episode: 0.10 \t episode-time 0.356 sec\n",
      "Episode 90\tAverage Score Moving Win: 0.01 \t Score this episode: 0.00 \t episode-time 0.175 sec\n",
      "Episode 100\tAverage Score Moving Win: 0.01 \t Score this episode: 0.00 \t episode-time 0.182 sec\n",
      "Episode 110\tAverage Score Moving Win: 0.01 \t Score this episode: 0.00 \t episode-time 0.340 sec\n",
      "Episode 120\tAverage Score Moving Win: 0.01 \t Score this episode: 0.00 \t episode-time 0.181 sec\n",
      "Episode 130\tAverage Score Moving Win: 0.01 \t Score this episode: 0.00 \t episode-time 0.179 sec\n",
      "Episode 140\tAverage Score Moving Win: 0.01 \t Score this episode: 0.00 \t episode-time 0.191 sec\n",
      "Episode 150\tAverage Score Moving Win: 0.01 \t Score this episode: 0.00 \t episode-time 0.353 sec\n",
      "Episode 160\tAverage Score Moving Win: 0.01 \t Score this episode: 0.00 \t episode-time 0.184 sec\n",
      "Episode 170\tAverage Score Moving Win: 0.01 \t Score this episode: 0.00 \t episode-time 0.187 sec\n",
      "Episode 180\tAverage Score Moving Win: 0.01 \t Score this episode: 0.00 \t episode-time 0.355 sec\n",
      "Episode 190\tAverage Score Moving Win: 0.00 \t Score this episode: 0.00 \t episode-time 0.183 sec\n",
      "Episode 200\tAverage Score Moving Win: 0.01 \t Score this episode: 0.00 \t episode-time 0.360 sec\n",
      "Episode 210\tAverage Score Moving Win: 0.01 \t Score this episode: 0.00 \t episode-time 0.190 sec\n",
      "Episode 220\tAverage Score Moving Win: 0.01 \t Score this episode: 0.00 \t episode-time 0.184 sec\n",
      "Episode 230\tAverage Score Moving Win: 0.01 \t Score this episode: 0.00 \t episode-time 0.188 sec\n",
      "Episode 240\tAverage Score Moving Win: 0.01 \t Score this episode: 0.00 \t episode-time 0.196 sec\n",
      "Episode 250\tAverage Score Moving Win: 0.01 \t Score this episode: 0.00 \t episode-time 0.181 sec\n",
      "Episode 260\tAverage Score Moving Win: 0.01 \t Score this episode: 0.00 \t episode-time 0.191 sec\n",
      "Episode 270\tAverage Score Moving Win: 0.02 \t Score this episode: 0.10 \t episode-time 0.539 sec\n",
      "Episode 280\tAverage Score Moving Win: 0.02 \t Score this episode: 0.20 \t episode-time 1.310 sec\n",
      "Episode 290\tAverage Score Moving Win: 0.03 \t Score this episode: 0.10 \t episode-time 0.561 sec\n",
      "Episode 300\tAverage Score Moving Win: 0.03 \t Score this episode: 0.00 \t episode-time 0.187 sec\n",
      "Episode 310\tAverage Score Moving Win: 0.04 \t Score this episode: 0.09 \t episode-time 0.386 sec\n",
      "Episode 320\tAverage Score Moving Win: 0.04 \t Score this episode: 0.00 \t episode-time 0.194 sec\n",
      "Episode 330\tAverage Score Moving Win: 0.05 \t Score this episode: 0.09 \t episode-time 0.547 sec\n",
      "Episode 340\tAverage Score Moving Win: 0.05 \t Score this episode: 0.30 \t episode-time 1.518 sec\n",
      "Episode 350\tAverage Score Moving Win: 0.06 \t Score this episode: 0.00 \t episode-time 0.191 sec\n",
      "Episode 360\tAverage Score Moving Win: 0.06 \t Score this episode: 0.00 \t episode-time 0.191 sec\n",
      "Episode 370\tAverage Score Moving Win: 0.07 \t Score this episode: 0.10 \t episode-time 0.382 sec\n",
      "Episode 380\tAverage Score Moving Win: 0.07 \t Score this episode: 0.00 \t episode-time 0.193 sec\n",
      "Episode 390\tAverage Score Moving Win: 0.07 \t Score this episode: 0.10 \t episode-time 0.559 sec\n",
      "Episode 400\tAverage Score Moving Win: 0.08 \t Score this episode: 0.10 \t episode-time 0.564 sec\n",
      "Episode 410\tAverage Score Moving Win: 0.07 \t Score this episode: 0.00 \t episode-time 0.191 sec\n",
      "Episode 420\tAverage Score Moving Win: 0.07 \t Score this episode: 0.00 \t episode-time 0.200 sec\n",
      "Episode 430\tAverage Score Moving Win: 0.07 \t Score this episode: 0.00 \t episode-time 0.195 sec\n",
      "Episode 440\tAverage Score Moving Win: 0.07 \t Score this episode: 0.10 \t episode-time 0.579 sec\n",
      "Episode 450\tAverage Score Moving Win: 0.06 \t Score this episode: 0.10 \t episode-time 0.572 sec\n",
      "Episode 460\tAverage Score Moving Win: 0.06 \t Score this episode: 0.09 \t episode-time 0.577 sec\n",
      "Episode 470\tAverage Score Moving Win: 0.07 \t Score this episode: 0.30 \t episode-time 1.536 sec\n",
      "Episode 480\tAverage Score Moving Win: 0.07 \t Score this episode: 0.10 \t episode-time 0.961 sec\n",
      "Episode 490\tAverage Score Moving Win: 0.07 \t Score this episode: 0.10 \t episode-time 0.574 sec\n",
      "Episode 500\tAverage Score Moving Win: 0.07 \t Score this episode: 0.10 \t episode-time 0.958 sec\n",
      "Episode 510\tAverage Score Moving Win: 0.07 \t Score this episode: 0.10 \t episode-time 0.774 sec\n",
      "Episode 520\tAverage Score Moving Win: 0.08 \t Score this episode: 0.10 \t episode-time 0.986 sec\n",
      "Episode 530\tAverage Score Moving Win: 0.08 \t Score this episode: 0.00 \t episode-time 0.198 sec\n",
      "Episode 540\tAverage Score Moving Win: 0.08 \t Score this episode: 0.10 \t episode-time 0.801 sec\n",
      "Episode 550\tAverage Score Moving Win: 0.09 \t Score this episode: 0.00 \t episode-time 0.391 sec\n",
      "Episode 560\tAverage Score Moving Win: 0.09 \t Score this episode: 0.10 \t episode-time 0.583 sec\n",
      "Episode 570\tAverage Score Moving Win: 0.09 \t Score this episode: 0.20 \t episode-time 1.576 sec\n",
      "Episode 580\tAverage Score Moving Win: 0.10 \t Score this episode: 0.00 \t episode-time 0.206 sec\n",
      "Episode 590\tAverage Score Moving Win: 0.10 \t Score this episode: 0.20 \t episode-time 1.014 sec\n",
      "Episode 600\tAverage Score Moving Win: 0.10 \t Score this episode: 0.19 \t episode-time 0.997 sec\n",
      "Episode 610\tAverage Score Moving Win: 0.10 \t Score this episode: 0.10 \t episode-time 0.798 sec\n",
      "Episode 620\tAverage Score Moving Win: 0.10 \t Score this episode: 0.10 \t episode-time 0.792 sec\n",
      "Episode 630\tAverage Score Moving Win: 0.10 \t Score this episode: 0.10 \t episode-time 0.809 sec\n",
      "Episode 640\tAverage Score Moving Win: 0.11 \t Score this episode: 0.20 \t episode-time 1.027 sec\n",
      "Episode 650\tAverage Score Moving Win: 0.10 \t Score this episode: 0.00 \t episode-time 0.394 sec\n",
      "Episode 660\tAverage Score Moving Win: 0.11 \t Score this episode: 0.00 \t episode-time 0.385 sec\n",
      "Episode 670\tAverage Score Moving Win: 0.09 \t Score this episode: 0.00 \t episode-time 0.202 sec\n",
      "Episode 680\tAverage Score Moving Win: 0.09 \t Score this episode: 0.00 \t episode-time 0.207 sec\n",
      "Episode 690\tAverage Score Moving Win: 0.08 \t Score this episode: 0.10 \t episode-time 0.822 sec\n",
      "Episode 700\tAverage Score Moving Win: 0.07 \t Score this episode: 0.00 \t episode-time 0.390 sec\n",
      "Episode 710\tAverage Score Moving Win: 0.06 \t Score this episode: 0.10 \t episode-time 0.600 sec\n",
      "Episode 720\tAverage Score Moving Win: 0.06 \t Score this episode: 0.00 \t episode-time 0.200 sec\n",
      "Episode 730\tAverage Score Moving Win: 0.05 \t Score this episode: 0.00 \t episode-time 0.207 sec\n",
      "Episode 740\tAverage Score Moving Win: 0.04 \t Score this episode: 0.00 \t episode-time 0.208 sec\n",
      "Episode 750\tAverage Score Moving Win: 0.03 \t Score this episode: 0.10 \t episode-time 1.003 sec\n",
      "Episode 760\tAverage Score Moving Win: 0.02 \t Score this episode: 0.00 \t episode-time 0.398 sec\n",
      "Episode 770\tAverage Score Moving Win: 0.02 \t Score this episode: 0.00 \t episode-time 0.207 sec\n",
      "Episode 780\tAverage Score Moving Win: 0.02 \t Score this episode: 0.00 \t episode-time 0.210 sec\n",
      "Episode 790\tAverage Score Moving Win: 0.04 \t Score this episode: 0.50 \t episode-time 2.864 sec\n",
      "Episode 800\tAverage Score Moving Win: 0.06 \t Score this episode: 0.10 \t episode-time 0.811 sec\n",
      "Episode 810\tAverage Score Moving Win: 0.09 \t Score this episode: 0.10 \t episode-time 0.600 sec\n",
      "Episode 820\tAverage Score Moving Win: 0.09 \t Score this episode: 0.10 \t episode-time 0.409 sec\n",
      "Episode 830\tAverage Score Moving Win: 0.10 \t Score this episode: 0.20 \t episode-time 1.258 sec\n",
      "Episode 840\tAverage Score Moving Win: 0.12 \t Score this episode: 0.10 \t episode-time 0.825 sec\n",
      "Episode 850\tAverage Score Moving Win: 0.13 \t Score this episode: 0.10 \t episode-time 0.405 sec\n",
      "Episode 860\tAverage Score Moving Win: 0.15 \t Score this episode: 0.00 \t episode-time 0.214 sec\n"
     ]
    },
    {
     "name": "stdout",
     "output_type": "stream",
     "text": [
      "Episode 870\tAverage Score Moving Win: 0.17 \t Score this episode: 0.20 \t episode-time 1.249 sec\n",
      "Episode 880\tAverage Score Moving Win: 0.18 \t Score this episode: 0.10 \t episode-time 0.842 sec\n",
      "Episode 890\tAverage Score Moving Win: 0.16 \t Score this episode: 0.10 \t episode-time 0.834 sec\n",
      "Episode 900\tAverage Score Moving Win: 0.16 \t Score this episode: 0.10 \t episode-time 1.030 sec\n",
      "Episode 910\tAverage Score Moving Win: 0.16 \t Score this episode: 0.70 \t episode-time 3.986 sec\n",
      "Episode 920\tAverage Score Moving Win: 0.17 \t Score this episode: 0.10 \t episode-time 0.423 sec\n",
      "Episode 930\tAverage Score Moving Win: 0.17 \t Score this episode: 0.10 \t episode-time 0.833 sec\n",
      "Episode 940\tAverage Score Moving Win: 0.16 \t Score this episode: 0.09 \t episode-time 0.434 sec\n",
      "Episode 950\tAverage Score Moving Win: 0.17 \t Score this episode: 0.10 \t episode-time 1.278 sec\n",
      "Episode 960\tAverage Score Moving Win: 0.17 \t Score this episode: 0.10 \t episode-time 1.093 sec\n",
      "Episode 970\tAverage Score Moving Win: 0.16 \t Score this episode: 0.00 \t episode-time 0.223 sec\n",
      "Episode 980\tAverage Score Moving Win: 0.17 \t Score this episode: 0.60 \t episode-time 3.689 sec\n",
      "Episode 990\tAverage Score Moving Win: 0.19 \t Score this episode: 0.30 \t episode-time 1.937 sec\n",
      "Episode 1000\tAverage Score Moving Win: 0.21 \t Score this episode: 0.10 \t episode-time 0.872 sec\n",
      "Episode 1010\tAverage Score Moving Win: 0.24 \t Score this episode: 0.20 \t episode-time 1.081 sec\n",
      "Episode 1020\tAverage Score Moving Win: 0.26 \t Score this episode: 0.10 \t episode-time 1.084 sec\n",
      "Episode 1030\tAverage Score Moving Win: 0.28 \t Score this episode: 0.20 \t episode-time 1.771 sec\n",
      "Episode 1040\tAverage Score Moving Win: 0.33 \t Score this episode: 0.40 \t episode-time 2.914 secc\n",
      "Episode 1050\tAverage Score Moving Win: 0.36 \t Score this episode: 0.19 \t episode-time 1.131 secc\n",
      "Episode 1060\tAverage Score Moving Win: 0.38 \t Score this episode: 0.30 \t episode-time 1.592 sec\n",
      "Episode 1070\tAverage Score Moving Win: 0.46 \t Score this episode: 2.50 \t episode-time 15.274 sec\n",
      "Episode 1076\tAverage Score Moving Win: 0.50 \t Score this episode: 2.30 \t episode-time 13.833 sec\n",
      "Reached train condition by episode 1076!\n"
     ]
    }
   ],
   "source": [
    "#Run Training\n",
    "#Instantiate critic and actor \n",
    "from agent import Agent\n",
    "\n",
    "agent = Agent(state_size=state_size, action_size=action_size)\n",
    "scores = run()"
   ]
  },
  {
   "cell_type": "code",
   "execution_count": 5,
   "metadata": {},
   "outputs": [],
   "source": [
    "torch.save(agent.actor_local.state_dict(), 'final_actor.pth')\n",
    "torch.save(agent.critic_local.state_dict(), 'final_critic.pth')"
   ]
  },
  {
   "cell_type": "markdown",
   "metadata": {},
   "source": [
    "## Plot run results"
   ]
  },
  {
   "cell_type": "code",
   "execution_count": 8,
   "metadata": {},
   "outputs": [
    {
     "data": {
      "image/png": "[encoded data removed]",
      "text/plain": [
       "<Figure size 864x504 with 1 Axes>"
      ]
     },
     "metadata": {
      "needs_background": "light"
     },
     "output_type": "display_data"
    }
   ],
   "source": [
    "import matplotlib.pyplot as plt\n",
    "%matplotlib inline\n",
    "\n",
    "# plot the scores\n",
    "fig = plt.figure(figsize=(12,7))\n",
    "ax = fig.add_subplot(111)\n",
    "plt.plot(np.arange(len(scores)), scores)\n",
    "N_smooth = 100\n",
    "smoothed_scores = np.convolve(scores, np.ones(N_smooth)/N_smooth, 'valid')\n",
    "plt.plot(N_smooth + np.arange(len(smoothed_scores)), smoothed_scores)\n",
    "plt.plot([0,len(scores)],[0.5, 0.5])\n",
    "plt.ylabel('Score')\n",
    "plt.xlabel('Episode #')\n",
    "plt.legend(['score per episode',\n",
    "            'mean score over previous 100 episodes',\n",
    "            'passing score (mean over 100 episodes and agents)'])\n",
    "plt.show()"
   ]
  },
  {
   "cell_type": "code",
   "execution_count": 10,
   "metadata": {},
   "outputs": [],
   "source": [
    "env.close()"
   ]
  },
  {
   "cell_type": "code",
   "execution_count": null,
   "metadata": {},
   "outputs": [],
   "source": []
  }
 ],
 "metadata": {
  "kernelspec": {
   "display_name": "Python 3 (ipykernel)",
   "language": "python",
   "name": "python3"
  },
  "language_info": {
   "codemirror_mode": {
    "name": "ipython",
    "version": 3
   },
   "file_extension": ".py",
   "mimetype": "text/x-python",
   "name": "python",
   "nbconvert_exporter": "python",
   "pygments_lexer": "ipython3",
   "version": "3.6.13"
  }
 },
 "nbformat": 4,
 "nbformat_minor": 2
}
